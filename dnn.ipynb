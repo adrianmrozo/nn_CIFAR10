{
 "cells": [
  {
   "cell_type": "code",
   "execution_count": 1,
   "metadata": {},
   "outputs": [],
   "source": [
    "import numpy as np\n",
    "import pandas as pd \n",
    "import pickle\n",
    "import os\n",
    "import sklearn\n",
    "import re\n",
    "import pickle\n",
    "import tensorflow as tf\n",
    "from sklearn.utils import shuffle\n",
    "import matplotlib.pyplot as plt\n",
    "from sklearn.preprocessing import LabelBinarizer\n",
    "%matplotlib inline"
   ]
  },
  {
   "cell_type": "code",
   "execution_count": 2,
   "metadata": {},
   "outputs": [],
   "source": [
    "def unpickle(file):\n",
    "    with open(file, 'rb') as fo:\n",
    "        dict1 = pickle.load(fo, encoding='bytes')\n",
    "    return dict1"
   ]
  },
  {
   "cell_type": "markdown",
   "metadata": {},
   "source": [
    "Unpickling batches of training data and separating pixel values and labels into different dataframes."
   ]
  },
  {
   "cell_type": "code",
   "execution_count": 3,
   "metadata": {
    "scrolled": true
   },
   "outputs": [
    {
     "data": {
      "text/html": [
       "<div>\n",
       "<style scoped>\n",
       "    .dataframe tbody tr th:only-of-type {\n",
       "        vertical-align: middle;\n",
       "    }\n",
       "\n",
       "    .dataframe tbody tr th {\n",
       "        vertical-align: top;\n",
       "    }\n",
       "\n",
       "    .dataframe thead th {\n",
       "        text-align: right;\n",
       "    }\n",
       "</style>\n",
       "<table border=\"1\" class=\"dataframe\">\n",
       "  <thead>\n",
       "    <tr style=\"text-align: right;\">\n",
       "      <th></th>\n",
       "      <th>0</th>\n",
       "      <th>1</th>\n",
       "      <th>2</th>\n",
       "      <th>3</th>\n",
       "      <th>4</th>\n",
       "      <th>5</th>\n",
       "      <th>6</th>\n",
       "      <th>7</th>\n",
       "      <th>8</th>\n",
       "      <th>9</th>\n",
       "      <th>...</th>\n",
       "      <th>3063</th>\n",
       "      <th>3064</th>\n",
       "      <th>3065</th>\n",
       "      <th>3066</th>\n",
       "      <th>3067</th>\n",
       "      <th>3068</th>\n",
       "      <th>3069</th>\n",
       "      <th>3070</th>\n",
       "      <th>3071</th>\n",
       "      <th>labels</th>\n",
       "    </tr>\n",
       "  </thead>\n",
       "  <tbody>\n",
       "    <tr>\n",
       "      <th>0</th>\n",
       "      <td>59</td>\n",
       "      <td>43</td>\n",
       "      <td>50</td>\n",
       "      <td>68</td>\n",
       "      <td>98</td>\n",
       "      <td>119</td>\n",
       "      <td>139</td>\n",
       "      <td>145</td>\n",
       "      <td>149</td>\n",
       "      <td>149</td>\n",
       "      <td>...</td>\n",
       "      <td>58</td>\n",
       "      <td>65</td>\n",
       "      <td>59</td>\n",
       "      <td>46</td>\n",
       "      <td>57</td>\n",
       "      <td>104</td>\n",
       "      <td>140</td>\n",
       "      <td>84</td>\n",
       "      <td>72</td>\n",
       "      <td>6</td>\n",
       "    </tr>\n",
       "    <tr>\n",
       "      <th>1</th>\n",
       "      <td>154</td>\n",
       "      <td>126</td>\n",
       "      <td>105</td>\n",
       "      <td>102</td>\n",
       "      <td>125</td>\n",
       "      <td>155</td>\n",
       "      <td>172</td>\n",
       "      <td>180</td>\n",
       "      <td>142</td>\n",
       "      <td>111</td>\n",
       "      <td>...</td>\n",
       "      <td>42</td>\n",
       "      <td>67</td>\n",
       "      <td>101</td>\n",
       "      <td>122</td>\n",
       "      <td>133</td>\n",
       "      <td>136</td>\n",
       "      <td>139</td>\n",
       "      <td>142</td>\n",
       "      <td>144</td>\n",
       "      <td>9</td>\n",
       "    </tr>\n",
       "    <tr>\n",
       "      <th>2</th>\n",
       "      <td>255</td>\n",
       "      <td>253</td>\n",
       "      <td>253</td>\n",
       "      <td>253</td>\n",
       "      <td>253</td>\n",
       "      <td>253</td>\n",
       "      <td>253</td>\n",
       "      <td>253</td>\n",
       "      <td>253</td>\n",
       "      <td>253</td>\n",
       "      <td>...</td>\n",
       "      <td>83</td>\n",
       "      <td>80</td>\n",
       "      <td>69</td>\n",
       "      <td>66</td>\n",
       "      <td>72</td>\n",
       "      <td>79</td>\n",
       "      <td>83</td>\n",
       "      <td>83</td>\n",
       "      <td>84</td>\n",
       "      <td>9</td>\n",
       "    </tr>\n",
       "    <tr>\n",
       "      <th>3</th>\n",
       "      <td>28</td>\n",
       "      <td>37</td>\n",
       "      <td>38</td>\n",
       "      <td>42</td>\n",
       "      <td>44</td>\n",
       "      <td>40</td>\n",
       "      <td>40</td>\n",
       "      <td>24</td>\n",
       "      <td>32</td>\n",
       "      <td>43</td>\n",
       "      <td>...</td>\n",
       "      <td>39</td>\n",
       "      <td>59</td>\n",
       "      <td>42</td>\n",
       "      <td>44</td>\n",
       "      <td>48</td>\n",
       "      <td>38</td>\n",
       "      <td>28</td>\n",
       "      <td>37</td>\n",
       "      <td>46</td>\n",
       "      <td>4</td>\n",
       "    </tr>\n",
       "    <tr>\n",
       "      <th>4</th>\n",
       "      <td>170</td>\n",
       "      <td>168</td>\n",
       "      <td>177</td>\n",
       "      <td>183</td>\n",
       "      <td>181</td>\n",
       "      <td>177</td>\n",
       "      <td>181</td>\n",
       "      <td>184</td>\n",
       "      <td>189</td>\n",
       "      <td>189</td>\n",
       "      <td>...</td>\n",
       "      <td>88</td>\n",
       "      <td>85</td>\n",
       "      <td>82</td>\n",
       "      <td>83</td>\n",
       "      <td>79</td>\n",
       "      <td>78</td>\n",
       "      <td>82</td>\n",
       "      <td>78</td>\n",
       "      <td>80</td>\n",
       "      <td>1</td>\n",
       "    </tr>\n",
       "  </tbody>\n",
       "</table>\n",
       "<p>5 rows × 3073 columns</p>\n",
       "</div>"
      ],
      "text/plain": [
       "     0    1    2    3    4    5    6    7    8    9   ...    3063  3064  3065  \\\n",
       "0   59   43   50   68   98  119  139  145  149  149   ...      58    65    59   \n",
       "1  154  126  105  102  125  155  172  180  142  111   ...      42    67   101   \n",
       "2  255  253  253  253  253  253  253  253  253  253   ...      83    80    69   \n",
       "3   28   37   38   42   44   40   40   24   32   43   ...      39    59    42   \n",
       "4  170  168  177  183  181  177  181  184  189  189   ...      88    85    82   \n",
       "\n",
       "   3066  3067  3068  3069  3070  3071  labels  \n",
       "0    46    57   104   140    84    72       6  \n",
       "1   122   133   136   139   142   144       9  \n",
       "2    66    72    79    83    83    84       9  \n",
       "3    44    48    38    28    37    46       4  \n",
       "4    83    79    78    82    78    80       1  \n",
       "\n",
       "[5 rows x 3073 columns]"
      ]
     },
     "execution_count": 3,
     "metadata": {},
     "output_type": "execute_result"
    }
   ],
   "source": [
    "pd_tr = pd.DataFrame()\n",
    "tr_y = pd.DataFrame()\n",
    "for i in range(1,6):\n",
    "    data = unpickle('data/data_batch_' + str(i))\n",
    "    pd_tr = pd_tr.append(pd.DataFrame(data[b'data']))\n",
    "    tr_y = tr_y.append(pd.DataFrame(data[b'labels']))\n",
    "pd_tr['labels'] = tr_y\n",
    "pd_tr.head(5)"
   ]
  },
  {
   "cell_type": "code",
   "execution_count": 4,
   "metadata": {},
   "outputs": [
    {
     "data": {
      "text/html": [
       "<div>\n",
       "<style scoped>\n",
       "    .dataframe tbody tr th:only-of-type {\n",
       "        vertical-align: middle;\n",
       "    }\n",
       "\n",
       "    .dataframe tbody tr th {\n",
       "        vertical-align: top;\n",
       "    }\n",
       "\n",
       "    .dataframe thead th {\n",
       "        text-align: right;\n",
       "    }\n",
       "</style>\n",
       "<table border=\"1\" class=\"dataframe\">\n",
       "  <thead>\n",
       "    <tr style=\"text-align: right;\">\n",
       "      <th></th>\n",
       "      <th>0</th>\n",
       "      <th>1</th>\n",
       "      <th>2</th>\n",
       "      <th>3</th>\n",
       "      <th>4</th>\n",
       "      <th>5</th>\n",
       "      <th>6</th>\n",
       "      <th>7</th>\n",
       "      <th>8</th>\n",
       "      <th>9</th>\n",
       "      <th>...</th>\n",
       "      <th>3063</th>\n",
       "      <th>3064</th>\n",
       "      <th>3065</th>\n",
       "      <th>3066</th>\n",
       "      <th>3067</th>\n",
       "      <th>3068</th>\n",
       "      <th>3069</th>\n",
       "      <th>3070</th>\n",
       "      <th>3071</th>\n",
       "      <th>labels</th>\n",
       "    </tr>\n",
       "  </thead>\n",
       "  <tbody>\n",
       "    <tr>\n",
       "      <th>4989</th>\n",
       "      <td>139</td>\n",
       "      <td>146</td>\n",
       "      <td>150</td>\n",
       "      <td>155</td>\n",
       "      <td>152</td>\n",
       "      <td>161</td>\n",
       "      <td>165</td>\n",
       "      <td>169</td>\n",
       "      <td>161</td>\n",
       "      <td>162</td>\n",
       "      <td>...</td>\n",
       "      <td>200</td>\n",
       "      <td>205</td>\n",
       "      <td>200</td>\n",
       "      <td>196</td>\n",
       "      <td>184</td>\n",
       "      <td>177</td>\n",
       "      <td>196</td>\n",
       "      <td>196</td>\n",
       "      <td>187</td>\n",
       "      <td>6</td>\n",
       "    </tr>\n",
       "    <tr>\n",
       "      <th>1755</th>\n",
       "      <td>229</td>\n",
       "      <td>225</td>\n",
       "      <td>224</td>\n",
       "      <td>223</td>\n",
       "      <td>220</td>\n",
       "      <td>221</td>\n",
       "      <td>228</td>\n",
       "      <td>231</td>\n",
       "      <td>228</td>\n",
       "      <td>223</td>\n",
       "      <td>...</td>\n",
       "      <td>98</td>\n",
       "      <td>100</td>\n",
       "      <td>99</td>\n",
       "      <td>99</td>\n",
       "      <td>99</td>\n",
       "      <td>97</td>\n",
       "      <td>104</td>\n",
       "      <td>106</td>\n",
       "      <td>102</td>\n",
       "      <td>8</td>\n",
       "    </tr>\n",
       "    <tr>\n",
       "      <th>6134</th>\n",
       "      <td>133</td>\n",
       "      <td>133</td>\n",
       "      <td>134</td>\n",
       "      <td>134</td>\n",
       "      <td>135</td>\n",
       "      <td>136</td>\n",
       "      <td>136</td>\n",
       "      <td>137</td>\n",
       "      <td>137</td>\n",
       "      <td>137</td>\n",
       "      <td>...</td>\n",
       "      <td>97</td>\n",
       "      <td>97</td>\n",
       "      <td>97</td>\n",
       "      <td>98</td>\n",
       "      <td>98</td>\n",
       "      <td>98</td>\n",
       "      <td>97</td>\n",
       "      <td>97</td>\n",
       "      <td>96</td>\n",
       "      <td>8</td>\n",
       "    </tr>\n",
       "    <tr>\n",
       "      <th>8081</th>\n",
       "      <td>135</td>\n",
       "      <td>150</td>\n",
       "      <td>158</td>\n",
       "      <td>137</td>\n",
       "      <td>122</td>\n",
       "      <td>115</td>\n",
       "      <td>102</td>\n",
       "      <td>79</td>\n",
       "      <td>75</td>\n",
       "      <td>66</td>\n",
       "      <td>...</td>\n",
       "      <td>60</td>\n",
       "      <td>60</td>\n",
       "      <td>61</td>\n",
       "      <td>68</td>\n",
       "      <td>87</td>\n",
       "      <td>101</td>\n",
       "      <td>109</td>\n",
       "      <td>110</td>\n",
       "      <td>115</td>\n",
       "      <td>8</td>\n",
       "    </tr>\n",
       "    <tr>\n",
       "      <th>1747</th>\n",
       "      <td>81</td>\n",
       "      <td>112</td>\n",
       "      <td>126</td>\n",
       "      <td>134</td>\n",
       "      <td>122</td>\n",
       "      <td>104</td>\n",
       "      <td>110</td>\n",
       "      <td>119</td>\n",
       "      <td>124</td>\n",
       "      <td>126</td>\n",
       "      <td>...</td>\n",
       "      <td>96</td>\n",
       "      <td>98</td>\n",
       "      <td>97</td>\n",
       "      <td>98</td>\n",
       "      <td>105</td>\n",
       "      <td>105</td>\n",
       "      <td>101</td>\n",
       "      <td>100</td>\n",
       "      <td>101</td>\n",
       "      <td>1</td>\n",
       "    </tr>\n",
       "  </tbody>\n",
       "</table>\n",
       "<p>5 rows × 3073 columns</p>\n",
       "</div>"
      ],
      "text/plain": [
       "        0    1    2    3    4    5    6    7    8    9   ...    3063  3064  \\\n",
       "4989  139  146  150  155  152  161  165  169  161  162   ...     200   205   \n",
       "1755  229  225  224  223  220  221  228  231  228  223   ...      98   100   \n",
       "6134  133  133  134  134  135  136  136  137  137  137   ...      97    97   \n",
       "8081  135  150  158  137  122  115  102   79   75   66   ...      60    60   \n",
       "1747   81  112  126  134  122  104  110  119  124  126   ...      96    98   \n",
       "\n",
       "      3065  3066  3067  3068  3069  3070  3071  labels  \n",
       "4989   200   196   184   177   196   196   187       6  \n",
       "1755    99    99    99    97   104   106   102       8  \n",
       "6134    97    98    98    98    97    97    96       8  \n",
       "8081    61    68    87   101   109   110   115       8  \n",
       "1747    97    98   105   105   101   100   101       1  \n",
       "\n",
       "[5 rows x 3073 columns]"
      ]
     },
     "execution_count": 4,
     "metadata": {},
     "output_type": "execute_result"
    }
   ],
   "source": [
    "pd_tr = shuffle(pd_tr)\n",
    "pd_tr.head(5)"
   ]
  },
  {
   "cell_type": "code",
   "execution_count": 5,
   "metadata": {},
   "outputs": [
    {
     "data": {
      "text/plain": [
       "(50000, 3072)"
      ]
     },
     "execution_count": 5,
     "metadata": {},
     "output_type": "execute_result"
    }
   ],
   "source": [
    "tr_x = np.asarray(pd_tr.iloc[:, :3072]).astype(np.float64)\n",
    "ts_x = np.asarray(unpickle('data/test_batch')[b'data']).astype(np.float64)\n",
    "ytr = np.asarray(pd_tr['labels'])\n",
    "yts = np.asarray(unpickle('data/test_batch')[b'labels'])\n",
    "tr_x.shape"
   ]
  },
  {
   "cell_type": "markdown",
   "metadata": {},
   "source": [
    "The above number can be calculated as 32(breadth) x 32(width) x 3(color channels) x 10000 (images per batch) x 5 (number of training batches)"
   ]
  },
  {
   "cell_type": "markdown",
   "metadata": {},
   "source": [
    "### Exploring the dataset"
   ]
  },
  {
   "cell_type": "markdown",
   "metadata": {},
   "source": [
    "Taking the label names from batches.meta and checking the categories of the images in the dataset."
   ]
  },
  {
   "cell_type": "code",
   "execution_count": 6,
   "metadata": {},
   "outputs": [
    {
     "data": {
      "text/plain": [
       "[b'airplane',\n",
       " b'automobile',\n",
       " b'bird',\n",
       " b'cat',\n",
       " b'deer',\n",
       " b'dog',\n",
       " b'frog',\n",
       " b'horse',\n",
       " b'ship',\n",
       " b'truck']"
      ]
     },
     "execution_count": 6,
     "metadata": {},
     "output_type": "execute_result"
    }
   ],
   "source": [
    "labels = unpickle('data/batches.meta')[b'label_names']\n",
    "labels"
   ]
  },
  {
   "cell_type": "code",
   "execution_count": 7,
   "metadata": {},
   "outputs": [
    {
     "data": {
      "text/plain": [
       "<matplotlib.image.AxesImage at 0x23f62479d68>"
      ]
     },
     "execution_count": 7,
     "metadata": {},
     "output_type": "execute_result"
    },
    {
     "data": {
      "image/png": "[encoded data removed]",
      "text/plain": [
       "<matplotlib.figure.Figure at 0x23f624230f0>"
      ]
     },
     "metadata": {},
     "output_type": "display_data"
    }
   ],
   "source": [
    "plt.imshow(tr_x[120].reshape(32,32,3))"
   ]
  },
  {
   "cell_type": "markdown",
   "metadata": {},
   "source": [
    "If you look carefully, you can see that it looks like an animal, probably a horse and that it is repeated around 9 times. This is because the reshaping was not done depth-wise. So we need to stack the array by separating the red, green and blue arrays and stacking them depth-wise. The below function takes a flattened array from the dataset and plots the RGB image."
   ]
  },
  {
   "cell_type": "code",
   "execution_count": 9,
   "metadata": {},
   "outputs": [],
   "source": [
    "def plot_CIFAR(ind):\n",
    "    arr = tr_x[ind]\n",
    "    R = arr[0:1024].reshape(32,32)/255.0\n",
    "    G = arr[1024:2048].reshape(32,32)/255.0\n",
    "    B = arr[2048:].reshape(32,32)/255.0\n",
    "    \n",
    "    img = np.dstack((R,G,B))\n",
    "    title = re.sub('[!@#$b]', '', str(labels[ytr[ind]]))\n",
    "    fig = plt.figure(figsize=(3,3))\n",
    "    ax = fig.add_subplot(111)\n",
    "    ax.imshow(img,interpolation='bicubic')\n",
    "    ax.set_title('Category = '+ title,fontsize =15)"
   ]
  },
  {
   "cell_type": "code",
   "execution_count": 10,
   "metadata": {
    "scrolled": true
   },
   "outputs": [
    {
     "data": {
      "image/png": "[encoded data removed]",
      "text/plain": [
       "<matplotlib.figure.Figure at 0x23f02000f60>"
      ]
     },
     "metadata": {},
     "output_type": "display_data"
    }
   ],
   "source": [
    "plot_CIFAR(120)"
   ]
  },
  {
   "cell_type": "markdown",
   "metadata": {},
   "source": [
    "This is the most sharpened the CIFAR-10 images get. This is because the original image is 32px X 32px, which is a lot smaller than the above image. "
   ]
  },
  {
   "cell_type": "markdown",
   "metadata": {},
   "source": [
    "### Normalizing "
   ]
  },
  {
   "cell_type": "markdown",
   "metadata": {},
   "source": [
    "Normalizing features (image pixels here) is an important pre-processing step in the learning process as it standardizes the features, implicitly letting the weights be considered equally."
   ]
  },
  {
   "cell_type": "code",
   "execution_count": 53,
   "metadata": {},
   "outputs": [
    {
     "data": {
      "image/png": "[encoded data removed]",
      "text/plain": [
       "<matplotlib.figure.Figure at 0x23f0203b940>"
      ]
     },
     "metadata": {},
     "output_type": "display_data"
    }
   ],
   "source": [
    "mean_tr = tr_x.mean(axis=0)\n",
    "mean_ts = tr_x.mean(axis=0)\n",
    "std_tr  = tr_x.std(axis=0)\n",
    "std_ts  = ts_x.std(axis=0)\n",
    "\n",
    "xtr = (tr_x-mean_tr.T)\n",
    "xts = (ts_x-mean_ts.T)\n",
    "# xtr = (tr_x-mean_tr.T)/(std_tr.T)\n",
    "# xts = (ts_x-mean_ts.T)/(std_ts.T)\n",
    "plot_CIFAR(120)"
   ]
  },
  {
   "cell_type": "code",
   "execution_count": null,
   "metadata": {},
   "outputs": [],
   "source": [
    "95.69759115, 154.25260417,61.67936198"
   ]
  },
  {
   "cell_type": "markdown",
   "metadata": {},
   "source": [
    "### Simple 3-layer deep neural network"
   ]
  },
  {
   "cell_type": "code",
   "execution_count": 54,
   "metadata": {},
   "outputs": [],
   "source": [
    "n_samp = xtr.shape[0]\n",
    "n_feat = xtr.shape[1]\n",
    "\n",
    "n_nodes_hl1 = 600\n",
    "n_nodes_hl2 = 100\n",
    "n_nodes_hl3 = 100\n",
    "\n",
    "n_classes = 10\n",
    "batch_size = 200 # the number of training examples in one forward/backward pass\n",
    "\n",
    "x = tf.placeholder('float' ,[None,xtr.shape[1]])\n",
    "y = tf.placeholder('float',[None,n_classes])\n",
    "\n",
    "label_binarizer = LabelBinarizer()\n",
    "label_binarizer.fit(range(n_classes))\n",
    "\n",
    "yohtr = label_binarizer.transform(ytr)\n",
    "yohts = label_binarizer.transform(yts)"
   ]
  },
  {
   "cell_type": "code",
   "execution_count": 55,
   "metadata": {},
   "outputs": [
    {
     "data": {
      "text/plain": [
       "(50000, 10)"
      ]
     },
     "execution_count": 55,
     "metadata": {},
     "output_type": "execute_result"
    }
   ],
   "source": [
    "yohtr.shape"
   ]
  },
  {
   "cell_type": "code",
   "execution_count": 56,
   "metadata": {},
   "outputs": [],
   "source": [
    "def neural_network_model(data):\n",
    "\n",
    "    # initializing weights and biases for the hidden layers and the output layer\n",
    "    hidden_l1 = {'weights': tf.Variable(tf.random_normal([n_feat,n_nodes_hl1])), \n",
    "                 'biases':tf.Variable(tf.random_normal([n_nodes_hl1]))}\n",
    "\n",
    "    hidden_l2 = {'weights': tf.Variable(tf.random_normal([n_nodes_hl1,n_nodes_hl2])), \n",
    "                 'biases':tf.Variable(tf.random_normal([n_nodes_hl2]))}\n",
    "\n",
    "    hidden_l3 = {'weights': tf.Variable(tf.random_normal([n_nodes_hl2,n_nodes_hl3])), \n",
    "                 'biases':tf.Variable(tf.random_normal([n_nodes_hl3]))}\n",
    "\n",
    "    output_l = {'weights': tf.Variable(tf.random_normal([n_nodes_hl3,n_classes])), \n",
    "                 'biases':tf.Variable(tf.random_normal([n_classes]))}\n",
    "\n",
    "    # computing the ouput of each layer and applying a non-linearity at the end of each layer computation\n",
    "    l1 = tf.add(tf.matmul(data, hidden_l1['weights']), hidden_l1['biases'])\n",
    "    l1 = tf.nn.relu(l1)\n",
    "\n",
    "    l2 = tf.add(tf.matmul(l1, hidden_l2['weights']), hidden_l2['biases'])\n",
    "    l2 = tf.nn.relu(l2)\n",
    "\n",
    "    l3 = tf.add(tf.matmul(l2, hidden_l3['weights']), hidden_l3['biases'])\n",
    "    l3 = tf.nn.relu(l3)\n",
    "\n",
    "    output = tf.add(tf.matmul(l3, output_l['weights']), output_l['biases'])\n",
    "\n",
    "    return output"
   ]
  },
  {
   "cell_type": "code",
   "execution_count": 57,
   "metadata": {},
   "outputs": [
    {
     "name": "stdout",
     "output_type": "stream",
     "text": [
      "Epoch 0 completed out of 10 loss: 252294088.219\n",
      "Epoch 1 completed out of 10 loss: 75563735.0469\n",
      "Epoch 2 completed out of 10 loss: 51514568.3594\n",
      "Epoch 3 completed out of 10 loss: 38251913.8906\n",
      "Epoch 4 completed out of 10 loss: 29022473.0156\n",
      "Epoch 5 completed out of 10 loss: 22547565.1797\n",
      "Epoch 6 completed out of 10 loss: 18144337.9844\n",
      "Epoch 7 completed out of 10 loss: 14741401.7891\n",
      "Epoch 8 completed out of 10 loss: 12223621.2813\n",
      "Epoch 9 completed out of 10 loss: 10222211.3008\n",
      "Accuracy: 0.2557\n"
     ]
    }
   ],
   "source": [
    "def train_neural_network(x):\n",
    "    prediction = neural_network_model(x)\n",
    "    cost = tf.reduce_mean(tf.nn.softmax_cross_entropy_with_logits(logits=prediction, labels=y))\n",
    "\n",
    "    # learning rate = 0.001\n",
    "    optimizer = tf.train.AdamOptimizer().minimize(cost)\n",
    "\n",
    "    # one epoch = one cycle of feed-forward and backprop\n",
    "    n_epochs = 10\n",
    "    \n",
    "    with tf.Session() as sess:\n",
    "        sess.run(tf.global_variables_initializer())\n",
    "        for epoch in range(n_epochs):\n",
    "            epoch_loss = 0\n",
    "            for index, offset in enumerate(range(0,n_samp, batch_size)):\n",
    "                x_epoch, y_epoch = np.array(tr_x[offset:offset + batch_size,:]), np.array(yohtr[offset:offset + batch_size])\n",
    "                _, c = sess.run([optimizer, cost], feed_dict ={x:x_epoch, y:y_epoch}) \n",
    "                epoch_loss +=c\n",
    "            print ('Epoch', epoch, 'completed out of', n_epochs, 'loss:', epoch_loss)\n",
    "\n",
    "        correct = tf.equal(tf.argmax(prediction,1), tf.argmax(y,1))\n",
    "        accuracy  = tf.reduce_mean(tf.cast(correct, 'float'))\n",
    "        print('Accuracy:', accuracy.eval({x:ts_x, y:yohts}))\n",
    "        \n",
    "#         prediction_fin=tf.argmax(prediction,1)\n",
    "#         test_pred = (np.asarray(sess.run([prediction_fin],feed_dict={x:xts})).T)\n",
    "                              \n",
    "#         pred_pd = pd.read_csv(csv_test, index_col = 0)\n",
    "#         pred_pd['label'] =test_pred\n",
    "#         pred_pd.to_csv(csv_predicted)\n",
    "#         print('Test:',test_pred)\n",
    "        \n",
    "train_neural_network(x)"
   ]
  },
  {
   "cell_type": "code",
   "execution_count": null,
   "metadata": {},
   "outputs": [],
   "source": []
  }
 ],
 "metadata": {
  "kernelspec": {
   "display_name": "Python 3",
   "language": "python",
   "name": "python3"
  },
  "language_info": {
   "codemirror_mode": {
    "name": "ipython",
    "version": 3
   },
   "file_extension": ".py",
   "mimetype": "text/x-python",
   "name": "python",
   "nbconvert_exporter": "python",
   "pygments_lexer": "ipython3",
   "version": "3.5.2"
  }
 },
 "nbformat": 4,
 "nbformat_minor": 2
}
